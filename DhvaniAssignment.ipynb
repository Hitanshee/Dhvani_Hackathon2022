{
  "nbformat": 4,
  "nbformat_minor": 0,
  "metadata": {
    "colab": {
      "provenance": []
    },
    "kernelspec": {
      "name": "python3",
      "display_name": "Python 3"
    },
    "language_info": {
      "name": "python"
    }
  },
  "cells": [
    {
      "cell_type": "code",
      "execution_count": 2,
      "metadata": {
        "id": "da3o8OZe6rXA"
      },
      "outputs": [],
      "source": [
        "import cv2\n",
        "from google.colab.patches import cv2_imshow"
      ]
    },
    {
      "cell_type": "code",
      "source": [
        "good_img = cv2.imread(\"/content/drive/MyDrive/KaggleDataset/good.png\")\n",
        "defect1_img = cv2.imread(\"/content/drive/MyDrive/KaggleDataset/defect1.png\")\n",
        "defect2_img = cv2.imread(\"/content/drive/MyDrive/KaggleDataset/defect2.png\")\n",
        "defect3_img = cv2.imread(\"/content/drive/MyDrive/KaggleDataset/defect3.png\")\n",
        "defect4_img = cv2.imread(\"/content/drive/MyDrive/KaggleDataset/defect4.png\")"
      ],
      "metadata": {
        "id": "LBNOSvjh-xKt"
      },
      "execution_count": 3,
      "outputs": []
    },
    {
      "cell_type": "code",
      "source": [
        "def defect(defect_img):\n",
        "  #cv2_imshow(cv2.resize(good_img,[300,300]))\n",
        "  #cv2_imshow(cv2.resize(defect_img,[300,300]))\n",
        "  diff = cv2.resize(cv2.bitwise_not(good_img - defect_img),[300,300])\n",
        "  #cv2_imshow(diff)\n",
        "  flag = 0\n",
        "  h = diff.shape[0]\n",
        "  w = diff.shape[1]\n",
        "  for y in range(0, h):\n",
        "    for x in range(0, w):\n",
        "      if diff[y,x].all() == 0:\n",
        "        flag = 1\n",
        "        #print(y,x,diff[y,x])\n",
        "      else:\n",
        "        continue\n",
        "  if flag == 1:\n",
        "    print(\"The defect is a flash\")\n",
        "  else:\n",
        "    print(\"The defect is a cut\")\n",
        "\n",
        "  return"
      ],
      "metadata": {
        "id": "FADnFa0iCHEe"
      },
      "execution_count": 57,
      "outputs": []
    },
    {
      "cell_type": "code",
      "source": [
        "print(\"Expected Output: Flash\")#defect1.png\n",
        "defect(defect1_img)\n",
        "print()\n",
        "print(\"Expected Output: Cut\")#defect2.png\n",
        "defect(defect2_img)\n",
        "print()\n",
        "print(\"Expected Output: Cut\")#defect3.png\n",
        "defect(defect3_img)\n",
        "print()\n",
        "print(\"Expected Output: Flash\")#defect4.png\n",
        "defect(defect4_img)"
      ],
      "metadata": {
        "colab": {
          "base_uri": "https://localhost:8080/"
        },
        "id": "R9dslV7N2m6p",
        "outputId": "9ab74044-f2b9-400b-db86-6857488a4372"
      },
      "execution_count": 59,
      "outputs": [
        {
          "output_type": "stream",
          "name": "stdout",
          "text": [
            "Expected Output: Flash\n",
            "The defect is a flash\n",
            "\n",
            "Expected Output: Cut\n",
            "The defect is a cut\n",
            "\n",
            "Expected Output: Cut\n",
            "The defect is a cut\n",
            "\n",
            "Expected Output: Flash\n",
            "The defect is a flash\n"
          ]
        }
      ]
    }
  ]
}